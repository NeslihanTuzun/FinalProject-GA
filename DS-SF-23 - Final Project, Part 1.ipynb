{
 "cells": [
  {
   "cell_type": "markdown",
   "metadata": {},
   "source": [
    "# DS-SF-23 | Final Project, Part 1: Lightning Talk\n",
    "\n",
    "> **Deadline:** Tuesday, May 24, 2016 6:30PM Pacific Time.\n",
    ">\n",
    "> **Submission:**\n",
    ">\n",
    "> - Please submit your presentation via a private message on Slack to Bob and Ivan.\n",
    "> - Present materials in class.\n",
    "\n",
    "\n",
    "## DELIVERABLES\n",
    "\n",
    "### Event Recommendation System\n",
    "\n",
    "- **Requirements:** You should present from a prepared deck that explains the following:\n",
    "  - ___The Problem___: predict what events the users will be interested in based on events they’ve responded to in the past, user demographic information, and what events they’ve seen and clicked on in an app.\n",
    "  - ___The Data___: Kaggle Data\n",
    "File Name\tAvailable Formats\n",
    "event_attendees.csv\t.gz (55.03 mb)\n",
    "events.csv\t.gz (161.46 mb)\n",
    "user_friends.csv\t.gz (148.60 mb)\n",
    "random_benchmark\t.csv (146.91 kb)\n",
    "users\t.csv (2.63 mb)\n",
    "event_popularity_benchmark\t.csv (146.91 kb)\n",
    "public_leaderboard_solution\t.csv (6.46 kb)\n",
    "test\t.csv (574.40 kb)\n",
    "train\t.csv (924.23 kb)\n",
    "event_popularity_benchmark_private_test_only\t.csv (51.51 kb)\n",
    "\n",
    "  - ___Your Hypotheses___: Item based correlation matrix - user base correlation matrix\n",
    "\n",
    "### Waze Carpool San Francisco Pilot\n",
    "\n",
    "- **Requirements:** You should present from a prepared deck that explains the following:\n",
    "  - ___The Problem___: Predict what events our users will be interested in based on events they’ve responded to in the past, user demographic information, and what events they’ve seen and clicked on in an app.\n",
    "  - ___The Data___: SMFTA Open Source Data\n",
    "Travel Decision Survey Data  \n",
    "  - ___Your Hypotheses___: Travel desicion choices is related with carpool usage.\n",
    "\n",
    "\n"
   ]
  }
 ],
 "metadata": {
  "kernelspec": {
   "display_name": "Python 2",
   "language": "python",
   "name": "python2"
  },
  "language_info": {
   "codemirror_mode": {
    "name": "ipython",
    "version": 2
   },
   "file_extension": ".py",
   "mimetype": "text/x-python",
   "name": "python",
   "nbconvert_exporter": "python",
   "pygments_lexer": "ipython2",
   "version": "2.7.11"
  }
 },
 "nbformat": 4,
 "nbformat_minor": 0
}
